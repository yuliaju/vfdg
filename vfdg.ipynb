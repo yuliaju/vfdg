{
 "cells": [
  {
   "cell_type": "code",
   "execution_count": 15,
   "metadata": {
    "collapsed": false
   },
   "outputs": [],
   "source": [
    "import Text.Parsec hiding ((<|>), many)\n",
    "import Text.Parsec.String (Parser)\n",
    "import Control.Applicative ((<|>), many)\n",
    "import Control.Monad (void)\n",
    "import Data.Char (isLetter, isDigit)\n",
    "\n",
    "data Op = Op (Int -> Int -> Int)\n",
    "instance Show Op where\n",
    "  show _ = \"op\"\n",
    "\n",
    "data Expr = Var Char\n",
    "          | Phrase Op Expr Expr\n",
    "          -- | Int\n",
    "          -- | Parens SimpleExpr\n",
    "            deriving (Show)\n",
    "\n",
    "opify :: Char -> Op\n",
    "opify c = Op $ case c of\n",
    "                  '+' -> (+)\n",
    "                  '-' -> (-)\n",
    "                  '*' -> (*)\n",
    "\n",
    "functionify :: Expr -> (Int -> Int -> Int)\n",
    "functionify (Var c) = (\\x _ -> x)\n",
    "functionify (Phrase (Op op) a b) = (\\x y -> (p x y) `op` (q x y)) \n",
    "  where\n",
    "    p = functionify a\n",
    "    q = functionify b"
   ]
  },
  {
   "cell_type": "code",
   "execution_count": 27,
   "metadata": {
    "collapsed": false
   },
   "outputs": [
    {
     "data": {
      "text/plain": [
       "4"
      ]
     },
     "metadata": {},
     "output_type": "display_data"
    }
   ],
   "source": [
    "let f = Phrase (Op (*)) (Var 'x') (Var 'x')\n",
    "\n",
    "let g = functionify f \n",
    "g 2 5"
   ]
  },
  {
   "cell_type": "code",
   "execution_count": 30,
   "metadata": {
    "collapsed": false
   },
   "outputs": [],
   "source": [
    "data Coordinate = Coord { x :: Int\n",
    "                        , y :: Int\n",
    "                        } deriving (Show)\n",
    "\n",
    "getCoordList :: (Int, Int) -> (Int, Int) -> Int -> [Coordinate]\n",
    "getCoordList (xMin, xMax) (yMin, yMax) spacing =\n",
    "  [Coord x y | x <- [xMin, (xMin + spacing)..xMax], y <- [yMin, (yMin + spacing)..yMax]]\n",
    "  \n",
    "getVectorField :: (Int -> Int -> Int) -> (Int -> Int -> Int) -> [Coordinate] -> [Vector]\n",
    "getVectorField p q = fmap (\\coord -> Vector (applyToCoord p coord) (applyToCoord q coord))\n",
    "\n",
    "applyToCoord :: (Int -> Int -> Int) -> Coordinate -> Int\n",
    "applyToCoord f (Coord x y) = f x y"
   ]
  },
  {
   "cell_type": "code",
   "execution_count": 29,
   "metadata": {
    "collapsed": false
   },
   "outputs": [
    {
     "data": {
      "text/plain": [
       "[Coord {x = 0, y = 0},Coord {x = 0, y = 1},Coord {x = 0, y = 2},Coord {x = 0, y = 3},Coord {x = 1, y = 0},Coord {x = 1, y = 1},Coord {x = 1, y = 2},Coord {x = 1, y = 3},Coord {x = 2, y = 0},Coord {x = 2, y = 1},Coord {x = 2, y = 2},Coord {x = 2, y = 3},Coord {x = 3, y = 0},Coord {x = 3, y = 1},Coord {x = 3, y = 2},Coord {x = 3, y = 3}]"
      ]
     },
     "metadata": {},
     "output_type": "display_data"
    }
   ],
   "source": [
    "let cList = getCoordList (0, 3) (0, 3) 1\n",
    "cList\n",
    "\n",
    "\n",
    "\n"
   ]
  },
  {
   "cell_type": "code",
   "execution_count": null,
   "metadata": {
    "collapsed": true
   },
   "outputs": [],
   "source": []
  },
  {
   "cell_type": "code",
   "execution_count": null,
   "metadata": {
    "collapsed": true
   },
   "outputs": [],
   "source": []
  },
  {
   "cell_type": "code",
   "execution_count": null,
   "metadata": {
    "collapsed": true
   },
   "outputs": [],
   "source": []
  },
  {
   "cell_type": "code",
   "execution_count": null,
   "metadata": {
    "collapsed": true
   },
   "outputs": [],
   "source": []
  },
  {
   "cell_type": "code",
   "execution_count": null,
   "metadata": {
    "collapsed": true
   },
   "outputs": [],
   "source": []
  }
 ],
 "metadata": {
  "kernelspec": {
   "display_name": "Haskell",
   "language": "haskell",
   "name": "haskell"
  },
  "language_info": {
   "codemirror_mode": "ihaskell",
   "file_extension": ".hs",
   "name": "haskell",
   "version": "7.10.3"
  }
 },
 "nbformat": 4,
 "nbformat_minor": 1
}
